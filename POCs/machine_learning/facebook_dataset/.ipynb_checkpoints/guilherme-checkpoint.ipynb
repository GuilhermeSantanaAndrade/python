{
 "cells": [
  {
   "cell_type": "code",
   "execution_count": 4,
   "metadata": {},
   "outputs": [],
   "source": [
    "import pandas as pd\n",
    "import numpy as np\n",
    "from sklearn.decomposition import PCA\n",
    "import matplotlib.pyplot as plt\n",
    "from sklearn.feature_selection import VarianceThreshold\n",
    "from sklearn.preprocessing import MinMaxScaler"
   ]
  },
  {
   "cell_type": "code",
   "execution_count": 82,
   "metadata": {},
   "outputs": [
    {
     "data": {
      "text/plain": [
       "array([[139441, 'Photo', 2, ..., 79.0, 17.0, 100],\n",
       "       [139441, 'Status', 2, ..., 130.0, 29.0, 164],\n",
       "       [139441, 'Photo', 3, ..., 66.0, 14.0, 80],\n",
       "       ...,\n",
       "       [81370, 'Photo', 1, ..., 93.0, 18.0, 115],\n",
       "       [81370, 'Photo', 3, ..., 91.0, 38.0, 136],\n",
       "       [81370, 'Photo', 2, ..., 91.0, 28.0, 119]], dtype=object)"
      ]
     },
     "execution_count": 82,
     "metadata": {},
     "output_type": "execute_result"
    }
   ],
   "source": [
    "data = pd.read_csv('.\\dataset_Facebook.csv')\n",
    "data_new = data.values\n",
    "data_new"
   ]
  },
  {
   "cell_type": "code",
   "execution_count": 36,
   "metadata": {},
   "outputs": [
    {
     "data": {
      "text/plain": [
       "Paid\n",
       "1.0    139\n",
       "Name: Type, dtype: int64"
      ]
     },
     "execution_count": 36,
     "metadata": {},
     "output_type": "execute_result"
    }
   ],
   "source": [
    "# INICIO DA ANALISE ESTATÍSTICA\n",
    "\n",
    "#1- Quantidade de registros pagos\n",
    "data[data['Paid']==1].groupby(['Paid']).agg('count').Type\n",
    "#Resposta => 139 registros"
   ]
  },
  {
   "cell_type": "code",
   "execution_count": 43,
   "metadata": {},
   "outputs": [
    {
     "data": {
      "text/plain": [
       "Type\n",
       "Link        6\n",
       "Photo     119\n",
       "Status     10\n",
       "Video       4\n",
       "Name: Paid, dtype: int64"
      ]
     },
     "execution_count": 43,
     "metadata": {},
     "output_type": "execute_result"
    }
   ],
   "source": [
    "#2- Ranking de tipos de postagem (Pagas)\n",
    "data[data['Paid']==1].groupby(['Type']).agg('count').Paid\n",
    "#Resposta =>\n",
    "#\n",
    "#Link 6\n",
    "#Photo 119\n",
    "#Status 10\n",
    "#Video 1"
   ]
  },
  {
   "cell_type": "code",
   "execution_count": 62,
   "metadata": {},
   "outputs": [
    {
     "data": {
      "text/plain": [
       "Post Month\n",
       "10    60\n",
       "7     52\n",
       "4     50\n",
       "Name: Type, dtype: int64"
      ]
     },
     "execution_count": 62,
     "metadata": {},
     "output_type": "execute_result"
    }
   ],
   "source": [
    "#3- Quais os três meses que teve mais publicações\n",
    "data.groupby(['Post Month']).agg('count').sort_values(by=['Type'], ascending=False).Type.head(3)\n",
    "#Resposta =>\n",
    "#Outubro = 60\n",
    "#Julho = 52\n",
    "#Abril = 50"
   ]
  },
  {
   "cell_type": "code",
   "execution_count": 71,
   "metadata": {},
   "outputs": [
    {
     "data": {
      "text/plain": [
       "Post Hour\n",
       "3     32\n",
       "10    18\n",
       "13    15\n",
       "2     14\n",
       "11    11\n",
       "Name: Type, dtype: int64"
      ]
     },
     "execution_count": 71,
     "metadata": {},
     "output_type": "execute_result"
    }
   ],
   "source": [
    "#4- Os cinco melhores horários para publicações pagas\n",
    "data[data['Paid']==1].groupby(['Post Hour']).agg('count').sort_values(by=['Type'], ascending=False).Type.head(5)\n",
    "# Respostas =>\n",
    "#3h = 32 publicações\n",
    "#10h = 18 publicações\n",
    "#13h = 15 publicações\n",
    "#2h = 14 publicações\n",
    "#11h = 11 publicações"
   ]
  },
  {
   "cell_type": "code",
   "execution_count": 79,
   "metadata": {},
   "outputs": [
    {
     "data": {
      "text/plain": [
       "Post Hour\n",
       "3    89\n",
       "Name: Type, dtype: int64"
      ]
     },
     "execution_count": 79,
     "metadata": {},
     "output_type": "execute_result"
    }
   ],
   "source": [
    "#5- O horário do dia com mais publicação de fotos\n",
    "data[data['Type']=='Photo'].groupby(['Post Hour']).agg('count').sort_values(by=['Type'], ascending=False).Type.head(1)\n",
    "#Resposta =>\n",
    "#3h => 89 publicações de fotos"
   ]
  },
  {
   "cell_type": "code",
   "execution_count": null,
   "metadata": {},
   "outputs": [],
   "source": [
    "# FIM DA ANALISE ESTATÍSTICA"
   ]
  },
  {
   "cell_type": "code",
   "execution_count": 93,
   "metadata": {},
   "outputs": [
    {
     "ename": "SyntaxError",
     "evalue": "invalid syntax (<ipython-input-93-685e9e4d3f13>, line 5)",
     "output_type": "error",
     "traceback": [
      "\u001b[1;36m  File \u001b[1;32m\"<ipython-input-93-685e9e4d3f13>\"\u001b[1;36m, line \u001b[1;32m5\u001b[0m\n\u001b[1;33m    if (not np.isnan(item[0])) and\u001b[0m\n\u001b[1;37m                                   ^\u001b[0m\n\u001b[1;31mSyntaxError\u001b[0m\u001b[1;31m:\u001b[0m invalid syntax\n"
     ]
    }
   ],
   "source": [
    "# INICIO DA SELEÇÃO DE ATRIBUTOS / REDUÇÃO DE DIMENSÃO\n",
    "data_filtered = []\n",
    "idPhoto = -1\n",
    "for item in data_new:\n",
    "    if (not np.isnan(item[0])) and (not np.isnan(item[1])) and (not np.isnan(item[2])) and (not np.isnan(item[3])) and (not np.isnan(item[4])) and (not np.isnan(item[5])) and (not np.isnan(item[6])) and (not np.isnan(item[7])) and\n",
    "       (not np.isnan(item[8])) and (not np.isnan(item[9])) and (not np.isnan(item[10])) and (not np.isnan(item[11])) and (not np.isnan(item[12])) and (not np.isnan(item[13])) and (not np.isnan(item[14])) and (not np.isnan(item[15])) and\n",
    "       (not np.isnan(item[16])) and (not np.isnan(item[17])) and (not np.isnan(item[18])):\n",
    "        if (item[1] == 'Photo'):\n",
    "            idPhoto = 0\n",
    "        elif (item[1] == 'Status'):\n",
    "            idPhoto = 1\n",
    "        elif (item[1] == 'Video'):\n",
    "            idPhoto = 2\n",
    "        elif (item[1] == 'Link'):\n",
    "            idPhoto = 3            \n",
    "        item[1] = idPhoto\n",
    "        data_filtered.append(item[0:19])\n",
    "\n",
    "xx = []\n",
    "yy = []\n",
    "for value in data_filtered:\n",
    "    xx.append(value[5])\n",
    "    yy.append(value[16])\n",
    "\n",
    "plt.xlim([0,30])\n",
    "plt.ylim([0,2000])\n",
    "plt.scatter(xx,yy)\n",
    "plt.show()"
   ]
  },
  {
   "cell_type": "code",
   "execution_count": 92,
   "metadata": {},
   "outputs": [
    {
     "ename": "ValueError",
     "evalue": "Input contains NaN, infinity or a value too large for dtype('float64').",
     "output_type": "error",
     "traceback": [
      "\u001b[1;31m---------------------------------------------------------------------------\u001b[0m",
      "\u001b[1;31mValueError\u001b[0m                                Traceback (most recent call last)",
      "\u001b[1;32m<ipython-input-92-c881cebe1bf1>\u001b[0m in \u001b[0;36m<module>\u001b[1;34m\u001b[0m\n\u001b[0;32m      2\u001b[0m \u001b[0mseletor_atributos\u001b[0m \u001b[1;33m=\u001b[0m \u001b[0mVarianceThreshold\u001b[0m\u001b[1;33m(\u001b[0m\u001b[0mthreshold\u001b[0m\u001b[1;33m=\u001b[0m\u001b[1;36m.08\u001b[0m\u001b[1;33m)\u001b[0m\u001b[1;33m\u001b[0m\u001b[1;33m\u001b[0m\u001b[0m\n\u001b[0;32m      3\u001b[0m \u001b[0mdata_norm\u001b[0m \u001b[1;33m=\u001b[0m \u001b[0mmin_max_scaler\u001b[0m\u001b[1;33m.\u001b[0m\u001b[0mfit_transform\u001b[0m\u001b[1;33m(\u001b[0m\u001b[0mdata_filtered\u001b[0m\u001b[1;33m)\u001b[0m\u001b[1;33m\u001b[0m\u001b[1;33m\u001b[0m\u001b[0m\n\u001b[1;32m----> 4\u001b[1;33m \u001b[0mdata_result\u001b[0m \u001b[1;33m=\u001b[0m \u001b[0mseletor_atributos\u001b[0m\u001b[1;33m.\u001b[0m\u001b[0mfit_transform\u001b[0m\u001b[1;33m(\u001b[0m\u001b[0mdata_norm\u001b[0m\u001b[1;33m)\u001b[0m\u001b[1;33m\u001b[0m\u001b[1;33m\u001b[0m\u001b[0m\n\u001b[0m\u001b[0;32m      5\u001b[0m \u001b[0mdata_result\u001b[0m\u001b[1;33m\u001b[0m\u001b[1;33m\u001b[0m\u001b[0m\n",
      "\u001b[1;32m~\\Anaconda3\\lib\\site-packages\\sklearn\\base.py\u001b[0m in \u001b[0;36mfit_transform\u001b[1;34m(self, X, y, **fit_params)\u001b[0m\n\u001b[0;32m    460\u001b[0m         \u001b[1;32mif\u001b[0m \u001b[0my\u001b[0m \u001b[1;32mis\u001b[0m \u001b[1;32mNone\u001b[0m\u001b[1;33m:\u001b[0m\u001b[1;33m\u001b[0m\u001b[1;33m\u001b[0m\u001b[0m\n\u001b[0;32m    461\u001b[0m             \u001b[1;31m# fit method of arity 1 (unsupervised transformation)\u001b[0m\u001b[1;33m\u001b[0m\u001b[1;33m\u001b[0m\u001b[1;33m\u001b[0m\u001b[0m\n\u001b[1;32m--> 462\u001b[1;33m             \u001b[1;32mreturn\u001b[0m \u001b[0mself\u001b[0m\u001b[1;33m.\u001b[0m\u001b[0mfit\u001b[0m\u001b[1;33m(\u001b[0m\u001b[0mX\u001b[0m\u001b[1;33m,\u001b[0m \u001b[1;33m**\u001b[0m\u001b[0mfit_params\u001b[0m\u001b[1;33m)\u001b[0m\u001b[1;33m.\u001b[0m\u001b[0mtransform\u001b[0m\u001b[1;33m(\u001b[0m\u001b[0mX\u001b[0m\u001b[1;33m)\u001b[0m\u001b[1;33m\u001b[0m\u001b[1;33m\u001b[0m\u001b[0m\n\u001b[0m\u001b[0;32m    463\u001b[0m         \u001b[1;32melse\u001b[0m\u001b[1;33m:\u001b[0m\u001b[1;33m\u001b[0m\u001b[1;33m\u001b[0m\u001b[0m\n\u001b[0;32m    464\u001b[0m             \u001b[1;31m# fit method of arity 2 (supervised transformation)\u001b[0m\u001b[1;33m\u001b[0m\u001b[1;33m\u001b[0m\u001b[1;33m\u001b[0m\u001b[0m\n",
      "\u001b[1;32m~\\Anaconda3\\lib\\site-packages\\sklearn\\feature_selection\\variance_threshold.py\u001b[0m in \u001b[0;36mfit\u001b[1;34m(self, X, y)\u001b[0m\n\u001b[0;32m     62\u001b[0m         \u001b[0mself\u001b[0m\u001b[1;33m\u001b[0m\u001b[1;33m\u001b[0m\u001b[0m\n\u001b[0;32m     63\u001b[0m         \"\"\"\n\u001b[1;32m---> 64\u001b[1;33m         \u001b[0mX\u001b[0m \u001b[1;33m=\u001b[0m \u001b[0mcheck_array\u001b[0m\u001b[1;33m(\u001b[0m\u001b[0mX\u001b[0m\u001b[1;33m,\u001b[0m \u001b[1;33m(\u001b[0m\u001b[1;34m'csr'\u001b[0m\u001b[1;33m,\u001b[0m \u001b[1;34m'csc'\u001b[0m\u001b[1;33m)\u001b[0m\u001b[1;33m,\u001b[0m \u001b[0mdtype\u001b[0m\u001b[1;33m=\u001b[0m\u001b[0mnp\u001b[0m\u001b[1;33m.\u001b[0m\u001b[0mfloat64\u001b[0m\u001b[1;33m)\u001b[0m\u001b[1;33m\u001b[0m\u001b[1;33m\u001b[0m\u001b[0m\n\u001b[0m\u001b[0;32m     65\u001b[0m \u001b[1;33m\u001b[0m\u001b[0m\n\u001b[0;32m     66\u001b[0m         \u001b[1;32mif\u001b[0m \u001b[0mhasattr\u001b[0m\u001b[1;33m(\u001b[0m\u001b[0mX\u001b[0m\u001b[1;33m,\u001b[0m \u001b[1;34m\"toarray\"\u001b[0m\u001b[1;33m)\u001b[0m\u001b[1;33m:\u001b[0m   \u001b[1;31m# sparse matrix\u001b[0m\u001b[1;33m\u001b[0m\u001b[1;33m\u001b[0m\u001b[0m\n",
      "\u001b[1;32m~\\Anaconda3\\lib\\site-packages\\sklearn\\utils\\validation.py\u001b[0m in \u001b[0;36mcheck_array\u001b[1;34m(array, accept_sparse, accept_large_sparse, dtype, order, copy, force_all_finite, ensure_2d, allow_nd, ensure_min_samples, ensure_min_features, warn_on_dtype, estimator)\u001b[0m\n\u001b[0;32m    571\u001b[0m         \u001b[1;32mif\u001b[0m \u001b[0mforce_all_finite\u001b[0m\u001b[1;33m:\u001b[0m\u001b[1;33m\u001b[0m\u001b[1;33m\u001b[0m\u001b[0m\n\u001b[0;32m    572\u001b[0m             _assert_all_finite(array,\n\u001b[1;32m--> 573\u001b[1;33m                                allow_nan=force_all_finite == 'allow-nan')\n\u001b[0m\u001b[0;32m    574\u001b[0m \u001b[1;33m\u001b[0m\u001b[0m\n\u001b[0;32m    575\u001b[0m     \u001b[0mshape_repr\u001b[0m \u001b[1;33m=\u001b[0m \u001b[0m_shape_repr\u001b[0m\u001b[1;33m(\u001b[0m\u001b[0marray\u001b[0m\u001b[1;33m.\u001b[0m\u001b[0mshape\u001b[0m\u001b[1;33m)\u001b[0m\u001b[1;33m\u001b[0m\u001b[1;33m\u001b[0m\u001b[0m\n",
      "\u001b[1;32m~\\Anaconda3\\lib\\site-packages\\sklearn\\utils\\validation.py\u001b[0m in \u001b[0;36m_assert_all_finite\u001b[1;34m(X, allow_nan)\u001b[0m\n\u001b[0;32m     54\u001b[0m                 not allow_nan and not np.isfinite(X).all()):\n\u001b[0;32m     55\u001b[0m             \u001b[0mtype_err\u001b[0m \u001b[1;33m=\u001b[0m \u001b[1;34m'infinity'\u001b[0m \u001b[1;32mif\u001b[0m \u001b[0mallow_nan\u001b[0m \u001b[1;32melse\u001b[0m \u001b[1;34m'NaN, infinity'\u001b[0m\u001b[1;33m\u001b[0m\u001b[1;33m\u001b[0m\u001b[0m\n\u001b[1;32m---> 56\u001b[1;33m             \u001b[1;32mraise\u001b[0m \u001b[0mValueError\u001b[0m\u001b[1;33m(\u001b[0m\u001b[0mmsg_err\u001b[0m\u001b[1;33m.\u001b[0m\u001b[0mformat\u001b[0m\u001b[1;33m(\u001b[0m\u001b[0mtype_err\u001b[0m\u001b[1;33m,\u001b[0m \u001b[0mX\u001b[0m\u001b[1;33m.\u001b[0m\u001b[0mdtype\u001b[0m\u001b[1;33m)\u001b[0m\u001b[1;33m)\u001b[0m\u001b[1;33m\u001b[0m\u001b[1;33m\u001b[0m\u001b[0m\n\u001b[0m\u001b[0;32m     57\u001b[0m \u001b[1;33m\u001b[0m\u001b[0m\n\u001b[0;32m     58\u001b[0m \u001b[1;33m\u001b[0m\u001b[0m\n",
      "\u001b[1;31mValueError\u001b[0m: Input contains NaN, infinity or a value too large for dtype('float64')."
     ]
    }
   ],
   "source": [
    "min_max_scaler = MinMaxScaler()\n",
    "seletor_atributos = VarianceThreshold(threshold=.08)\n",
    "data_norm = min_max_scaler.fit_transform(data_filtered)\n",
    "data_result = seletor_atributos.fit_transform(data_norm)\n",
    "data_result"
   ]
  },
  {
   "cell_type": "code",
   "execution_count": 11,
   "metadata": {},
   "outputs": [
    {
     "data": {
      "image/png": "[encoded data removed]",
      "text/plain": [
       "<Figure size 432x288 with 1 Axes>"
      ]
     },
     "metadata": {
      "needs_background": "light"
     },
     "output_type": "display_data"
    }
   ],
   "source": [
    "pca = PCA(n_components=3)\n",
    "m_out = pca.fit_transform(data_result)\n",
    "zz = []\n",
    "kk = []\n",
    "for value in m_out:\n",
    "    zz.append(m_out[0])\n",
    "    kk.append(m_out[1])\n",
    "plt.xlim([-2,2])\n",
    "plt.ylim([-2,2])\n",
    "plt.scatter(zz,kk)\n",
    "plt.show()"
   ]
  },
  {
   "cell_type": "code",
   "execution_count": null,
   "metadata": {},
   "outputs": [],
   "source": [
    "# Inicialmente foi verificado que havia necessidade de transformar a coluna Type que era uma String em um numérico.\n",
    "# Foi realizado mediante tratativa da variavel IdPhoto.\n",
    "# Em seguida foi verificado que existia uma linha que não havia um valor preenchido na coluna Paid. Para isso foi realizado\n",
    "# o tratamento para remover a mesma do array data_filtered\n",
    "# Após isso um gráfico que para ser sincero com os dados das primeiras colunas do dataset não vi correlação nenhuma. Acredito\n",
    "# para encontrar correlação deveríamos usar colunas como Like, share, comment, etc...\n",
    "# Feito isso, aplicado uma variancia de 0.08 e o dataset reduziu de 7 para 4 colunas. (Não consegui identificar \n",
    "# quais colunas restaram)\n",
    "# Por fim, aplicado o PCA de 3 colunas e exibido um gráfico entre coluna 0 e 1. \n",
    "# É possível verificar que há apenas 3 pontos onde há concentração de valores.\n",
    "# Acredito que isso ocorra devido a Categoria ou Tipo que só existem de 3 a 4 tipos "
   ]
  },
  {
   "cell_type": "code",
   "execution_count": null,
   "metadata": {},
   "outputs": [],
   "source": []
  }
 ],
 "metadata": {
  "kernelspec": {
   "display_name": "Python 3",
   "language": "python",
   "name": "python3"
  }
 },
 "nbformat": 4,
 "nbformat_minor": 2
}
