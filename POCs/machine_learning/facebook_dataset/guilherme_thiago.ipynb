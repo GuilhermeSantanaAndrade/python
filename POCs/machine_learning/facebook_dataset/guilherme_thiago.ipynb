{
 "cells": [
  {
   "cell_type": "code",
   "execution_count": 1,
   "metadata": {},
   "outputs": [],
   "source": [
    "import pandas as pd\n",
    "import numpy as np\n",
    "from sklearn.decomposition import PCA\n",
    "import matplotlib.pyplot as plt\n",
    "from sklearn.feature_selection import VarianceThreshold\n",
    "from sklearn.preprocessing import MinMaxScaler"
   ]
  },
  {
   "cell_type": "code",
   "execution_count": 10,
   "metadata": {},
   "outputs": [
    {
     "name": "stdout",
     "output_type": "stream",
     "text": [
      "500 amostras lidas\n",
      "495 amostras depois da limpeza\n"
     ]
    }
   ],
   "source": [
    "data = pd.read_csv('.\\dataset_Facebook.csv')\n",
    "\n",
    "print(\"%d amostras lidas\"%len(data))\n",
    "data = data.dropna()\n",
    "print(\"%d amostras depois da limpeza\"%len(data))\n",
    "transformer = {'Photo':1, 'Status':2, 'Link':3, 'Video':4}\n",
    "data['TypeID'] = data['Type'].map(lambda i: transformer[i])\n",
    "\n",
    "data.head()\n",
    "data_new = data.values\n",
    "#data_new"
   ]
  },
  {
   "cell_type": "code",
   "execution_count": 3,
   "metadata": {},
   "outputs": [
    {
     "data": {
      "text/plain": [
       "0.20236371815319135"
      ]
     },
     "execution_count": 3,
     "metadata": {},
     "output_type": "execute_result"
    }
   ],
   "source": [
    "# INICIO DA ANALISE ESTATÍSTICA\n",
    "\n",
    "#1- Quantidade de registros pagos\n",
    "data[data['Paid']==1].groupby(['Paid']).agg('count').Type\n",
    "#Resposta => 139 registros\n",
    "data['Paid'].var()"
   ]
  },
  {
   "cell_type": "code",
   "execution_count": 4,
   "metadata": {},
   "outputs": [
    {
     "data": {
      "text/plain": [
       "Type\n",
       "Link        6\n",
       "Photo     119\n",
       "Status     10\n",
       "Video       4\n",
       "Name: Paid, dtype: int64"
      ]
     },
     "execution_count": 4,
     "metadata": {},
     "output_type": "execute_result"
    }
   ],
   "source": [
    "#2- Ranking de tipos de postagem (Pagas)\n",
    "data[data['Paid']==1].groupby(['Type']).agg('count').Paid\n",
    "#Resposta =>\n",
    "#\n",
    "#Link 6\n",
    "#Photo 119\n",
    "#Status 10\n",
    "#Video 1"
   ]
  },
  {
   "cell_type": "code",
   "execution_count": 5,
   "metadata": {},
   "outputs": [
    {
     "data": {
      "text/plain": [
       "Post Month\n",
       "10    57\n",
       "7     52\n",
       "4     50\n",
       "Name: Type, dtype: int64"
      ]
     },
     "execution_count": 5,
     "metadata": {},
     "output_type": "execute_result"
    }
   ],
   "source": [
    "#3- Quais os três meses que teve mais publicações\n",
    "data.groupby(['Post Month']).agg('count').sort_values(by=['Type'], ascending=False).Type.head(3)\n",
    "#Resposta =>\n",
    "#Outubro = 60\n",
    "#Julho = 52\n",
    "#Abril = 50"
   ]
  },
  {
   "cell_type": "code",
   "execution_count": 6,
   "metadata": {},
   "outputs": [
    {
     "data": {
      "text/plain": [
       "Post Hour\n",
       "3     32\n",
       "10    18\n",
       "13    15\n",
       "2     14\n",
       "11    11\n",
       "Name: Type, dtype: int64"
      ]
     },
     "execution_count": 6,
     "metadata": {},
     "output_type": "execute_result"
    }
   ],
   "source": [
    "#4- Os cinco melhores horários para publicações pagas\n",
    "data[data['Paid']==1].groupby(['Post Hour']).agg('count').sort_values(by=['Type'], ascending=False).Type.head(5)\n",
    "# Respostas =>\n",
    "#3h = 32 publicações\n",
    "#10h = 18 publicações\n",
    "#13h = 15 publicações\n",
    "#2h = 14 publicações\n",
    "#11h = 11 publicações"
   ]
  },
  {
   "cell_type": "code",
   "execution_count": 7,
   "metadata": {},
   "outputs": [
    {
     "data": {
      "text/plain": [
       "Post Hour\n",
       "3    89\n",
       "Name: Type, dtype: int64"
      ]
     },
     "execution_count": 7,
     "metadata": {},
     "output_type": "execute_result"
    }
   ],
   "source": [
    "#5- O horário do dia com mais publicação de fotos\n",
    "data[data['Type']=='Photo'].groupby(['Post Hour']).agg('count').sort_values(by=['Type'], ascending=False).Type.head(1)\n",
    "#Resposta =>\n",
    "#3h => 89 publicações de fotos"
   ]
  },
  {
   "cell_type": "code",
   "execution_count": 8,
   "metadata": {},
   "outputs": [],
   "source": [
    "# FIM DA ANALISE ESTATÍSTICA"
   ]
  },
  {
   "cell_type": "code",
   "execution_count": 11,
   "metadata": {},
   "outputs": [
    {
     "data": {
      "image/png": "[encoded data removed]",
      "text/plain": [
       "<Figure size 432x288 with 1 Axes>"
      ]
     },
     "metadata": {
      "needs_background": "light"
     },
     "output_type": "display_data"
    }
   ],
   "source": [
    "# INICIO DA SELEÇÃO DE ATRIBUTOS / REDUÇÃO DE DIMENSÃO\n",
    "data_filtered = []\n",
    "idPhoto = -1\n",
    "for item in data_new:\n",
    "    if (not np.isnan(item[0])) and (not np.isnan(item[2])) and (not np.isnan(item[3])) and (not np.isnan(item[4])) and (not np.isnan(item[5])) and (not np.isnan(item[6])) and (not np.isnan(item[7])) and (not np.isnan(item[8])) and (not np.isnan(item[9])) and (not np.isnan(item[10])) and (not np.isnan(item[11])) and (not np.isnan(item[12])) and (not np.isnan(item[13])) and (not np.isnan(item[14])) and (not np.isnan(item[15])) and (not np.isnan(item[16])) and (not np.isnan(item[17])) and (not np.isnan(item[18])):\n",
    "        if (item[1] == 'Photo'):\n",
    "            idPhoto = 0\n",
    "        elif (item[1] == 'Status'):\n",
    "            idPhoto = 1\n",
    "        elif (item[1] == 'Video'):\n",
    "            idPhoto = 2\n",
    "        elif (item[1] == 'Link'):\n",
    "            idPhoto = 3            \n",
    "        item[1] = idPhoto\n",
    "        data_filtered.append(item[0:19])\n",
    "\n",
    "xx = []\n",
    "yy = []\n",
    "for value in data_filtered:\n",
    "    xx.append(value[5])\n",
    "    yy.append(value[16])\n",
    "\n",
    "plt.xlim([0,30])\n",
    "plt.ylim([0,2200])\n",
    "plt.xlabel(\"Hora\")\n",
    "plt.ylabel(\"Quantidade de likes\")\n",
    "plt.scatter(xx,yy)\n",
    "plt.show()"
   ]
  },
  {
   "cell_type": "code",
   "execution_count": 17,
   "metadata": {},
   "outputs": [
    {
     "data": {
      "text/plain": [
       "<matplotlib.collections.PathCollection at 0x20d941f7d30>"
      ]
     },
     "execution_count": 17,
     "metadata": {},
     "output_type": "execute_result"
    },
    {
     "data": {
      "image/png": "[encoded data removed]",
      "text/plain": [
       "<Figure size 1440x432 with 3 Axes>"
      ]
     },
     "metadata": {
      "needs_background": "light"
     },
     "output_type": "display_data"
    }
   ],
   "source": [
    "min_max_scaler = MinMaxScaler()\n",
    "seletor_atributos = VarianceThreshold(threshold=.08)\n",
    "data_norm = min_max_scaler.fit_transform(data_filtered)\n",
    "data_result = seletor_atributos.fit_transform(data_norm)\n",
    "\n",
    "plt.figure(figsize=(20,6))\n",
    "plt.subplot(131)\n",
    "plt.xlim([-0.5,1.5])\n",
    "plt.ylim([-0.5,1.5])\n",
    "# plt.scatter(zz,kk)\n",
    "plt.scatter(data_result[:,0],data_result[:,1])\n",
    "plt.subplot(132)\n",
    "plt.xlim([-0.5,1.5])\n",
    "plt.ylim([-0.5,1.5])\n",
    "# plt.scatter(zz,kk)\n",
    "plt.scatter(data_result[:,0],data_result[:,2])\n",
    "plt.subplot(133)\n",
    "plt.xlim([-0.5,1.5])\n",
    "plt.ylim([-0.5,1.5])\n",
    "# plt.scatter(zz,kk)\n",
    "plt.scatter(data_result[:,1],data_result[:,2])\n"
   ]
  },
  {
   "cell_type": "code",
   "execution_count": 15,
   "metadata": {},
   "outputs": [
    {
     "data": {
      "text/plain": [
       "<matplotlib.collections.PathCollection at 0x20d9516dac8>"
      ]
     },
     "execution_count": 15,
     "metadata": {},
     "output_type": "execute_result"
    },
    {
     "data": {
      "image/png": "[encoded data removed]",
      "text/plain": [
       "<Figure size 1440x432 with 3 Axes>"
      ]
     },
     "metadata": {
      "needs_background": "light"
     },
     "output_type": "display_data"
    }
   ],
   "source": [
    "pca = PCA(n_components=3)\n",
    "m_out = pca.fit_transform(data_result)\n",
    "zz = []\n",
    "kk = []\n",
    "for value in m_out:\n",
    "    zz.append(value[0])\n",
    "    kk.append(value[1])\n",
    "\n",
    "plt.figure(figsize=(20,6))\n",
    "plt.subplot(131)\n",
    "plt.xlim([-0.5,1])\n",
    "plt.ylim([-0.5,1])\n",
    "# plt.scatter(zz,kk)\n",
    "plt.scatter(m_out[:,0],m_out[:,1])\n",
    "plt.subplot(132)\n",
    "plt.xlim([-0.5,1])\n",
    "plt.ylim([-0.5,1])\n",
    "# plt.scatter(zz,kk)\n",
    "plt.scatter(m_out[:,0],m_out[:,2])\n",
    "plt.subplot(133)\n",
    "plt.xlim([-0.5,1])\n",
    "plt.ylim([-0.5,1])\n",
    "# plt.scatter(zz,kk)\n",
    "plt.scatter(m_out[:,1],m_out[:,2])\n",
    "# plt.show()"
   ]
  },
  {
   "cell_type": "code",
   "execution_count": null,
   "metadata": {},
   "outputs": [],
   "source": [
    "# Inicialmente foi verificado que havia necessidade de transformar a coluna Type que era uma String em um numérico.\n",
    "# Foi realizado mediante tratativa da variavel IdPhoto.\n",
    "# Em seguida foi verificado que existiam valores NaN. Para isso foi realizado\n",
    "# o tratamento para remover a mesma do array data_filtered\n",
    "# Após isso um gráfico para auxiliar a visualização. \n",
    "# Feito isso, aplicado uma variancia de 0.08 e o dataset reduziu de 20 para 4 colunas.\n",
    "# Por fim, aplicado o PCA de 3 colunas e exibido um gráfico. \n",
    "# É possível verificar que há apenas 3 pontos crescentes onde há concentração de valores."
   ]
  },
  {
   "cell_type": "code",
   "execution_count": 18,
   "metadata": {},
   "outputs": [
    {
     "data": {
      "image/png": "[encoded data removed]",
      "text/plain": [
       "<Figure size 432x288 with 1 Axes>"
      ]
     },
     "metadata": {
      "needs_background": "light"
     },
     "output_type": "display_data"
    }
   ],
   "source": [
    "x = np.random.randn(100)\n",
    "y = x + np.random.randn(100)*.5\n",
    "\n",
    "plt.figure()\n",
    "plt.scatter(x,y);"
   ]
  },
  {
   "cell_type": "code",
   "execution_count": null,
   "metadata": {},
   "outputs": [],
   "source": []
  }
 ],
 "metadata": {
  "kernelspec": {
   "display_name": "Python 3",
   "language": "python",
   "name": "python3"
  },
  "language_info": {
   "codemirror_mode": {
    "name": "ipython",
    "version": 3
   },
   "file_extension": ".py",
   "mimetype": "text/x-python",
   "name": "python",
   "nbconvert_exporter": "python",
   "pygments_lexer": "ipython3",
   "version": "3.7.1"
  }
 },
 "nbformat": 4,
 "nbformat_minor": 2
}
