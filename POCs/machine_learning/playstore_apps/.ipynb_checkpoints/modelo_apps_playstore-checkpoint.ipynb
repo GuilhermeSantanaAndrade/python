{
 "cells": [
  {
   "cell_type": "code",
   "execution_count": 1,
   "metadata": {},
   "outputs": [],
   "source": [
    "import pandas as pd\n",
    "import numpy as np\n",
    "\n",
    "from sklearn.preprocessing import MinMaxScaler\n",
    "from sklearn.feature_selection import VarianceThreshold\n",
    "from sklearn.decomposition import PCA\n",
    "from sklearn.linear_model import LinearRegression\n",
    "from sklearn.pipeline import Pipeline\n",
    "from sklearn.metrics import mean_squared_error, mean_absolute_error\n",
    "from sklearn.model_selection import train_test_split\n",
    "\n",
    "import matplotlib.pyplot as plt\n",
    "%matplotlib notebook"
   ]
  },
  {
   "cell_type": "code",
   "execution_count": 2,
   "metadata": {},
   "outputs": [
    {
     "data": {
      "text/html": [
       "<div>\n",
       "<style scoped>\n",
       "    .dataframe tbody tr th:only-of-type {\n",
       "        vertical-align: middle;\n",
       "    }\n",
       "\n",
       "    .dataframe tbody tr th {\n",
       "        vertical-align: top;\n",
       "    }\n",
       "\n",
       "    .dataframe thead th {\n",
       "        text-align: right;\n",
       "    }\n",
       "</style>\n",
       "<table border=\"1\" class=\"dataframe\">\n",
       "  <thead>\n",
       "    <tr style=\"text-align: right;\">\n",
       "      <th></th>\n",
       "      <th>App</th>\n",
       "      <th>Category</th>\n",
       "      <th>Rating</th>\n",
       "      <th>Reviews</th>\n",
       "      <th>Size</th>\n",
       "      <th>Installs</th>\n",
       "      <th>Type</th>\n",
       "      <th>Price</th>\n",
       "      <th>Content Rating</th>\n",
       "      <th>Genres</th>\n",
       "      <th>Last Updated</th>\n",
       "      <th>Current Ver</th>\n",
       "      <th>Android Ver</th>\n",
       "      <th>Installs_numeric</th>\n",
       "    </tr>\n",
       "  </thead>\n",
       "  <tbody>\n",
       "    <tr>\n",
       "      <th>0</th>\n",
       "      <td>Photo Editor &amp; Candy Camera &amp; Grid &amp; ScrapBook</td>\n",
       "      <td>ART_AND_DESIGN</td>\n",
       "      <td>4.1</td>\n",
       "      <td>159</td>\n",
       "      <td>19M</td>\n",
       "      <td>10,000+</td>\n",
       "      <td>Free</td>\n",
       "      <td>0</td>\n",
       "      <td>Everyone</td>\n",
       "      <td>Art &amp; Design</td>\n",
       "      <td>January 7, 2018</td>\n",
       "      <td>1.0.0</td>\n",
       "      <td>4.0.3 and up</td>\n",
       "      <td>0</td>\n",
       "    </tr>\n",
       "    <tr>\n",
       "      <th>1</th>\n",
       "      <td>Coloring book moana</td>\n",
       "      <td>ART_AND_DESIGN</td>\n",
       "      <td>3.9</td>\n",
       "      <td>967</td>\n",
       "      <td>14M</td>\n",
       "      <td>500,000+</td>\n",
       "      <td>Free</td>\n",
       "      <td>0</td>\n",
       "      <td>Everyone</td>\n",
       "      <td>Art &amp; Design;Pretend Play</td>\n",
       "      <td>January 15, 2018</td>\n",
       "      <td>2.0.0</td>\n",
       "      <td>4.0.3 and up</td>\n",
       "      <td>0</td>\n",
       "    </tr>\n",
       "    <tr>\n",
       "      <th>2</th>\n",
       "      <td>U Launcher Lite – FREE Live Cool Themes, Hide ...</td>\n",
       "      <td>ART_AND_DESIGN</td>\n",
       "      <td>4.7</td>\n",
       "      <td>87510</td>\n",
       "      <td>8.7M</td>\n",
       "      <td>5,000,000+</td>\n",
       "      <td>Free</td>\n",
       "      <td>0</td>\n",
       "      <td>Everyone</td>\n",
       "      <td>Art &amp; Design</td>\n",
       "      <td>August 1, 2018</td>\n",
       "      <td>1.2.4</td>\n",
       "      <td>4.0.3 and up</td>\n",
       "      <td>0</td>\n",
       "    </tr>\n",
       "  </tbody>\n",
       "</table>\n",
       "</div>"
      ],
      "text/plain": [
       "                                                 App        Category  Rating  \\\n",
       "0     Photo Editor & Candy Camera & Grid & ScrapBook  ART_AND_DESIGN     4.1   \n",
       "1                                Coloring book moana  ART_AND_DESIGN     3.9   \n",
       "2  U Launcher Lite – FREE Live Cool Themes, Hide ...  ART_AND_DESIGN     4.7   \n",
       "\n",
       "  Reviews  Size    Installs  Type Price Content Rating  \\\n",
       "0     159   19M     10,000+  Free     0       Everyone   \n",
       "1     967   14M    500,000+  Free     0       Everyone   \n",
       "2   87510  8.7M  5,000,000+  Free     0       Everyone   \n",
       "\n",
       "                      Genres      Last Updated Current Ver   Android Ver  \\\n",
       "0               Art & Design   January 7, 2018       1.0.0  4.0.3 and up   \n",
       "1  Art & Design;Pretend Play  January 15, 2018       2.0.0  4.0.3 and up   \n",
       "2               Art & Design    August 1, 2018       1.2.4  4.0.3 and up   \n",
       "\n",
       "   Installs_numeric  \n",
       "0                 0  \n",
       "1                 0  \n",
       "2                 0  "
      ]
     },
     "execution_count": 2,
     "metadata": {},
     "output_type": "execute_result"
    }
   ],
   "source": [
    "data = pd.read_csv('./googleplaystore.csv')\n",
    "#data = data.assign(Installs_numeric=0)\n",
    "data.head(3)"
   ]
  },
  {
   "cell_type": "code",
   "execution_count": 3,
   "metadata": {},
   "outputs": [
    {
     "name": "stdout",
     "output_type": "stream",
     "text": [
      "10841 Total amostras\n",
      "9360 Total amostras (s/ NaN)\n"
     ]
    }
   ],
   "source": [
    "print('%d Total amostras'%len(data))\n",
    "data = data.dropna()\n",
    "print('%d Total amostras (s/ NaN)'%len(data))"
   ]
  },
  {
   "cell_type": "code",
   "execution_count": 4,
   "metadata": {
    "scrolled": false
   },
   "outputs": [],
   "source": [
    "data.groupby(['Category']).agg('count')\n",
    "category = {'1.9': 0, 'ART_AND_DESIGN': 1, 'AUTO_AND_VEHICLES': 2, 'BEAUTY': 3, 'BOOKS_AND_REFERENCE': 4, 'BUSINESS': 5, 'COMICS': 6, 'COMMUNICATION': 7, 'DATING': 8, 'EDUCATION': 9, 'ENTERTAINMENT': 10, 'EVENTS': 11, 'FAMILY': 12, 'FINANCE': 13, 'FOOD_AND_DRINK': 14, 'GAME': 15, 'HEALTH_AND_FITNESS': 16, 'HOUSE_AND_HOME': 17, 'LIBRARIES_AND_DEMO': 18, 'LIFESTYLE': 19, 'MAPS_AND_NAVIGATION': 20, 'MEDICAL': 21, 'NEWS_AND_MAGAZINES': 22, 'PARENTING': 23, 'PERSONALIZATION': 24, 'PHOTOGRAPHY': 25,  'PRODUCTIVITY': 26, 'SHOPPING': 27, 'SOCIAL': 28, 'SPORTS': 29, 'TOOLS': 30, 'TRAVEL_AND_LOCAL': 31, 'VIDEO_PLAYERS': 32, 'WEATHER': 33 }\n",
    "data['categoryID'] = data['Category'].map(lambda i: category[i])"
   ]
  },
  {
   "cell_type": "code",
   "execution_count": 5,
   "metadata": {},
   "outputs": [],
   "source": [
    "data.groupby(['Type']).agg('count')\n",
    "type = {'0': 0, 'Free': 1, 'Paid': 2 }\n",
    "data['typeID'] = data['Type'].map(lambda i: type[i])"
   ]
  },
  {
   "cell_type": "code",
   "execution_count": 6,
   "metadata": {},
   "outputs": [],
   "source": [
    "data.groupby(['Content Rating']).agg('count')\n",
    "type = {'Adults only 18+': 0, 'Everyone': 1, 'Everyone 10+': 2, 'Mature 17+': 3, 'Teen': 4, 'Unrated': 5 }\n",
    "data['contentRatingID'] = data['Content Rating'].map(lambda i: type[i])"
   ]
  },
  {
   "cell_type": "code",
   "execution_count": 7,
   "metadata": {},
   "outputs": [],
   "source": [
    "data['installsNumeric'] = data['Installs'].map(lambda i: int(i.replace('+','').replace(',','')))"
   ]
  },
  {
   "cell_type": "code",
   "execution_count": 8,
   "metadata": {},
   "outputs": [],
   "source": [
    "data['priceNumeric'] = data['Price'].map(lambda i: float(i.replace('$','').replace('.','')))"
   ]
  },
  {
   "cell_type": "code",
   "execution_count": 9,
   "metadata": {},
   "outputs": [],
   "source": [
    "data['reviewsNumeric'] = data['Reviews'].map(lambda i: int(i))"
   ]
  },
  {
   "cell_type": "code",
   "execution_count": 10,
   "metadata": {},
   "outputs": [],
   "source": [
    "coluns_x = ['categoryID', 'Rating', 'reviewsNumeric', 'typeID', 'priceNumeric', 'contentRatingID']\n",
    "coluns_y = ['installsNumeric']\n",
    "\n",
    "data_x = data[coluns_x]\n",
    "data_y = data[coluns_y]\n",
    "\n",
    "train_x, test_x, train_y, test_y = train_test_split(data_x.values,\n",
    "                                                    data_y.values,\n",
    "                                                    test_size=.3)"
   ]
  },
  {
   "cell_type": "code",
   "execution_count": 11,
   "metadata": {},
   "outputs": [
    {
     "data": {
      "text/plain": [
       "Pipeline(memory=None,\n",
       "     steps=[('norm', MinMaxScaler(copy=True, feature_range=(0, 1))), ('var_thr', VarianceThreshold(threshold=0.02)), ('pca', PCA(copy=True, iterated_power='auto', n_components=3, random_state=None,\n",
       "  svd_solver='auto', tol=0.0, whiten=False)), ('regressor', LinearRegression(copy_X=True, fit_intercept=True, n_jobs=None,\n",
       "         normalize=False))])"
      ]
     },
     "execution_count": 11,
     "metadata": {},
     "output_type": "execute_result"
    }
   ],
   "source": [
    "\n",
    "model = Pipeline([('norm', MinMaxScaler()),\n",
    "                  ('var_thr', VarianceThreshold(threshold=.02)),\n",
    "                  ('pca', PCA(n_components=3)),\n",
    "                  ('regressor', LinearRegression())\n",
    "                 ])\n",
    "model.fit(train_x, train_y)"
   ]
  },
  {
   "cell_type": "code",
   "execution_count": 12,
   "metadata": {},
   "outputs": [
    {
     "data": {
      "text/plain": [
       "array([[14419779.94444111],\n",
       "       [24012975.92406261],\n",
       "       [20757606.16469042],\n",
       "       ...,\n",
       "       [25347255.12832562],\n",
       "       [17755477.95509864],\n",
       "       [20424036.36362466]])"
      ]
     },
     "execution_count": 12,
     "metadata": {},
     "output_type": "execute_result"
    }
   ],
   "source": [
    "predictions = model.predict(test_x)\n",
    "predictions"
   ]
  },
  {
   "cell_type": "code",
   "execution_count": 13,
   "metadata": {},
   "outputs": [
    {
     "data": {
      "image/png": "[encoded data removed]",
      "text/plain": [
       "<Figure size 360x360 with 1 Axes>"
      ]
     },
     "metadata": {
      "needs_background": "light"
     },
     "output_type": "display_data"
    }
   ],
   "source": [
    "plt.figure(figsize=(5,5))\n",
    "plt.xlabel(\"Real\")\n",
    "plt.ylabel(\"Predição\")\n",
    "plt.plot([0,1],[0,1],c='k')\n",
    "plt.scatter(test_y, predictions);"
   ]
  },
  {
   "cell_type": "code",
   "execution_count": 14,
   "metadata": {},
   "outputs": [
    {
     "name": "stdout",
     "output_type": "stream",
     "text": [
      "MAE: 28863257.435\n"
     ]
    }
   ],
   "source": [
    "print(\"MAE: %.3f\"%(mean_absolute_error(test_y, predictions)))"
   ]
  },
  {
   "cell_type": "code",
   "execution_count": 15,
   "metadata": {},
   "outputs": [],
   "source": [
    "# Conclusões\n",
    "# Foi escolhido um Dataset de downloads de Apps na Play Store\n",
    "# Usando CRISP-DM bscamos resolver um problema conhecido, criando um modelo que \n",
    "# confrontasse os dados com o Número de downloads, utilizando uma técnica de regressão para avaliar o valor numérico \"Installs\"\n",
    "# Foi necessário normalizar quase todos os campos, pois quase todos eram Strings com símbolos como por exemplo (+$,.)\n",
    "# O resultado foi um gráfico vertifical, com quase todos os valores variando entre 0 e 0.1 no eixo x.\n",
    "# Ao chegar nesse resultado, realizamos uma nova iteração e tentamos mudar nossa analise de  de Regressão Linear para K-média,\n",
    "# no intuito de analisar esses dados em forma de clusters, porém tivemos problemas na exibição do gráfico, o que nos fez\n",
    "# voltar para o resultado inicial."
   ]
  }
 ],
 "metadata": {
  "kernelspec": {
   "display_name": "Python 3",
   "language": "python",
   "name": "python3"
  },
  "language_info": {
   "codemirror_mode": {
    "name": "ipython",
    "version": 3
   },
   "file_extension": ".py",
   "mimetype": "text/x-python",
   "name": "python",
   "nbconvert_exporter": "python",
   "pygments_lexer": "ipython3",
   "version": "3.7.1"
  }
 },
 "nbformat": 4,
 "nbformat_minor": 2
}
